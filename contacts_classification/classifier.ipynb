{
 "cells": [
  {
   "cell_type": "code",
   "execution_count": 1,
   "id": "51a887de",
   "metadata": {
    "ExecuteTime": {
     "end_time": "2023-05-14T08:58:02.497093898Z",
     "start_time": "2023-05-14T08:58:01.604274210Z"
    }
   },
   "outputs": [],
   "source": [
    "import os\n",
    "import pandas as pd\n",
    "from sklearn.model_selection import train_test_split\n",
    "from sklearn.naive_bayes import GaussianNB, MultinomialNB, CategoricalNB, ComplementNB, BernoulliNB"
   ]
  },
  {
   "cell_type": "code",
   "execution_count": 2,
   "id": "844d72c8",
   "metadata": {
    "ExecuteTime": {
     "end_time": "2023-05-14T08:58:16.077509923Z",
     "start_time": "2023-05-14T08:58:01.614590947Z"
    }
   },
   "outputs": [
    {
     "ename": "FileNotFoundError",
     "evalue": "[Errno 2] No such file or directory: 'data/features_ring'",
     "output_type": "error",
     "traceback": [
      "\u001b[0;31m---------------------------------------------------------------------------\u001b[0m",
      "\u001b[0;31mFileNotFoundError\u001b[0m                         Traceback (most recent call last)",
      "Cell \u001b[0;32mIn[2], line 3\u001b[0m\n\u001b[1;32m      1\u001b[0m \u001b[39m# Combine all PDBs into a single dataframe\u001b[39;00m\n\u001b[1;32m      2\u001b[0m dfs \u001b[39m=\u001b[39m []\n\u001b[0;32m----> 3\u001b[0m \u001b[39mfor\u001b[39;00m filename \u001b[39min\u001b[39;00m os\u001b[39m.\u001b[39;49mlistdir(\u001b[39m'\u001b[39;49m\u001b[39mdata/features_ring\u001b[39;49m\u001b[39m'\u001b[39;49m):\n\u001b[1;32m      4\u001b[0m     dfs\u001b[39m.\u001b[39mappend(pd\u001b[39m.\u001b[39mread_csv(\u001b[39m'\u001b[39m\u001b[39mdata/features_ring/\u001b[39m\u001b[39m'\u001b[39m \u001b[39m+\u001b[39m filename, sep\u001b[39m=\u001b[39m\u001b[39m'\u001b[39m\u001b[39m\\t\u001b[39;00m\u001b[39m'\u001b[39m))\n\u001b[1;32m      5\u001b[0m df \u001b[39m=\u001b[39m pd\u001b[39m.\u001b[39mconcat(dfs)\n",
      "\u001b[0;31mFileNotFoundError\u001b[0m: [Errno 2] No such file or directory: 'data/features_ring'"
     ]
    }
   ],
   "source": [
    "# Combine all PDBs into a single dataframe\n",
    "dfs = []\n",
    "for filename in os.listdir('data/features_ring'):\n",
    "    dfs.append(pd.read_csv('data/features_ring/' + filename, sep='\\t'))\n",
    "df = pd.concat(dfs)\n",
    "df"
   ]
  },
  {
   "cell_type": "code",
   "execution_count": null,
   "id": "d44dc56d",
   "metadata": {},
   "outputs": [],
   "source": [
    "# Remove all rows with NaN in at least one column\n",
    "# including rows with missing class (they could be false negatives)\n",
    "df.dropna(inplace=True)\n",
    "\n",
    "# Define ground truth values\n",
    "y = df['Interaction'].astype('category')\n",
    "y"
   ]
  },
  {
   "cell_type": "code",
   "execution_count": null,
   "id": "61dd378e",
   "metadata": {},
   "outputs": [],
   "source": [
    "# Define training features\n",
    "X = df[['s_rsa', 's_up', 's_down', 's_phi', 's_psi', 's_a1', 's_a2', 's_a3', 's_a4', 's_a5', \n",
    "        't_rsa', 't_up', 't_down', 't_phi', 't_psi', 't_a1', 't_a2', 't_a3', 't_a4', 't_a5']]\n",
    "\n",
    "# Calculate percentiles and transform into categories\n",
    "X = X.rank(pct=True).round(1).astype('category') \n",
    "X"
   ]
  },
  {
   "cell_type": "code",
   "execution_count": null,
   "id": "a6284c67",
   "metadata": {},
   "outputs": [],
   "source": [
    "# Split the dataset to define training and testing examples\n",
    "X_train, X_test, y_train, y_test = train_test_split(X, y, test_size=0.1, random_state=0)"
   ]
  },
  {
   "attachments": {},
   "cell_type": "markdown",
   "metadata": {
    "collapsed": false
   },
   "source": [
    "### Test different versions of Naive Bayes"
   ]
  },
  {
   "cell_type": "code",
   "execution_count": null,
   "id": "ab66a302",
   "metadata": {},
   "outputs": [],
   "source": [
    "nb = GaussianNB()\n",
    "y_pred = nb.fit(X_train, y_train).predict(X_test)\n",
    "print(\"Number of mislabeled points out of a total %d points : %d\" % (X_test.shape[0], (y_test != y_pred).sum()))"
   ]
  },
  {
   "cell_type": "code",
   "execution_count": null,
   "id": "72208065",
   "metadata": {},
   "outputs": [],
   "source": [
    "nb = MultinomialNB()\n",
    "y_pred = nb.fit(X_train, y_train).predict(X_test)\n",
    "print(\"Number of mislabeled points out of a total %d points : %d\" % (X_test.shape[0], (y_test != y_pred).sum()))"
   ]
  },
  {
   "cell_type": "code",
   "execution_count": null,
   "id": "4809956f",
   "metadata": {},
   "outputs": [],
   "source": [
    "nb = ComplementNB()\n",
    "y_pred = nb.fit(X_train, y_train).predict(X_test)\n",
    "print(\"Number of mislabeled points out of a total %d points : %d\" % (X_test.shape[0], (y_test != y_pred).sum()))"
   ]
  },
  {
   "cell_type": "code",
   "execution_count": null,
   "id": "10a35e1f",
   "metadata": {},
   "outputs": [],
   "source": [
    "nb = BernoulliNB()\n",
    "y_pred = nb.fit(X_train, y_train).predict(X_test)\n",
    "print(\"Number of mislabeled points out of a total %d points : %d\" % (X_test.shape[0], (y_test != y_pred).sum()))"
   ]
  },
  {
   "cell_type": "code",
   "execution_count": null,
   "id": "8ea3c374",
   "metadata": {},
   "outputs": [],
   "source": [
    "nb = CategoricalNB()\n",
    "y_pred = nb.fit(X_train, y_train).predict(X_test)\n",
    "print(\"Number of mislabeled points out of a total %d points : %d\" % (X_test.shape[0], (y_test != y_pred).sum()))"
   ]
  }
 ],
 "metadata": {
  "kernelspec": {
   "display_name": "Python 3 (ipykernel)",
   "language": "python",
   "name": "python3"
  },
  "language_info": {
   "codemirror_mode": {
    "name": "ipython",
    "version": 3
   },
   "file_extension": ".py",
   "mimetype": "text/x-python",
   "name": "python",
   "nbconvert_exporter": "python",
   "pygments_lexer": "ipython3",
   "version": "3.11.4"
  }
 },
 "nbformat": 4,
 "nbformat_minor": 5
}
